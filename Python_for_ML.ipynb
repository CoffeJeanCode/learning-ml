{
  "nbformat": 4,
  "nbformat_minor": 0,
  "metadata": {
    "colab": {
      "provenance": [],
      "authorship_tag": "ABX9TyOcx7GeQk4kQzejMkX/s2gK"
    },
    "kernelspec": {
      "name": "python3",
      "display_name": "Python 3"
    },
    "language_info": {
      "name": "python"
    }
  },
  "cells": [
    {
      "cell_type": "code",
      "execution_count": null,
      "metadata": {
        "id": "gsxrbF_C4W1R"
      },
      "outputs": [],
      "source": [
        "import numpy as np"
      ]
    },
    {
      "cell_type": "markdown",
      "source": [
        "# NumPy\n",
        "## Basis\n",
        "### Built-in Functions"
      ],
      "metadata": {
        "id": "j6CSgwJQ40Zn"
      }
    },
    {
      "cell_type": "code",
      "source": [
        "arr = np.array([1, 2, 3, 4, 5, 6])\n",
        "print(\"arr: \", arr)\n",
        "\n",
        "zeros = np.zeros((2, 3))\n",
        "print(\"zeros: \", zeros)\n",
        "\n",
        "ones = np.ones((2, 3))\n",
        "print(\"ones: \", ones)\n",
        "\n",
        "range_arr = np.arange(0, 10, 2)\n",
        "print(\"range: \", range_arr)\n",
        "\n",
        "linspace = np.linspace(0, 10, 5)\n",
        "print(\"linspace: \", linspace)"
      ],
      "metadata": {
        "colab": {
          "base_uri": "https://localhost:8080/"
        },
        "id": "dXcvsTM44df1",
        "outputId": "86016671-d48f-433a-f66f-9abd1f566170"
      },
      "execution_count": null,
      "outputs": [
        {
          "output_type": "stream",
          "name": "stdout",
          "text": [
            "arr:  [1 2 3 4 5 6]\n",
            "zeros:  [[0. 0. 0.]\n",
            " [0. 0. 0.]]\n",
            "ones:  [[1. 1. 1.]\n",
            " [1. 1. 1.]]\n",
            "range:  [0 2 4 6 8]\n",
            "linspace:  [ 0.   2.5  5.   7.5 10. ]\n"
          ]
        }
      ]
    },
    {
      "cell_type": "markdown",
      "source": [
        "### Operations\n",
        "- Element-wise Operations\n",
        "- Math Operations"
      ],
      "metadata": {
        "id": "6Gu0awtA5xM9"
      }
    },
    {
      "cell_type": "code",
      "source": [
        "arr.reshape((3, 2)) # Allow change shape of array, length should be get by (a, b)"
      ],
      "metadata": {
        "colab": {
          "base_uri": "https://localhost:8080/"
        },
        "id": "kD42s7Hc4zfQ",
        "outputId": "b52b6206-09d1-4ce7-95c8-63e651cad752"
      },
      "execution_count": null,
      "outputs": [
        {
          "output_type": "execute_result",
          "data": {
            "text/plain": [
              "array([[1, 2],\n",
              "       [3, 4],\n",
              "       [5, 6]])"
            ]
          },
          "metadata": {},
          "execution_count": 4
        }
      ]
    },
    {
      "cell_type": "code",
      "source": [
        "a = np.array([1, 2, 3])\n",
        "b = np.array([4, 5, 6])\n",
        "print(\"a + b: \", a + b)\n",
        "print(\"a - b: \", a - b)\n",
        "print(\"a * b: \", a * b)\n",
        "print(\"a / b: \", a / b)\n",
        "\n",
        "print(\".\" * 10)\n",
        "\n",
        "c = np.array([2, 4, 9, 16, 25])\n",
        "print(\"sqrt(c): \", np.sqrt(c))\n",
        "print(\"sin(c): \", np.sin(c))\n",
        "print(\"log(c): \", np.log(c))\n",
        "\n",
        "print(\".\" * 10)\n",
        "\n",
        "d = np.array([1, 2, 3])\n",
        "e = np.array([4, 5, 6])\n",
        "print(\"dot(d, e): \", np.dot(d, e))\n",
        "\n",
        "print(\".\" * 10)\n",
        "\n",
        "f = np.array([1, 3, 4, 5, 6, 8, 8, 9])\n",
        "print(\"mean\", np.mean(f))\n",
        "print(\"median\", np.median(f))\n",
        "print(\"std\", np.std(f))\n",
        "print(\"var\", np.var(f))\n",
        "print(\"max\", np.max(f))\n",
        "print(\"min\", np.min(f))\n",
        "\n",
        "print(\".\" * 10)\n",
        "\n",
        "g = np.array([[1, 2, 3], [4, 6, 7], [1, 4, 6]])\n",
        "print(g.T)\n",
        "print(g.T * g)"
      ],
      "metadata": {
        "colab": {
          "base_uri": "https://localhost:8080/"
        },
        "id": "eGTLdoF-5w5V",
        "outputId": "acb00f14-586a-4e25-af70-f48084264dd0"
      },
      "execution_count": null,
      "outputs": [
        {
          "output_type": "stream",
          "name": "stdout",
          "text": [
            "a + b:  [5 7 9]\n",
            "a - b:  [-3 -3 -3]\n",
            "a * b:  [ 4 10 18]\n",
            "a / b:  [0.25 0.4  0.5 ]\n",
            "..........\n",
            "sqrt(c):  [1.41421356 2.         3.         4.         5.        ]\n",
            "sin(c):  [ 0.90929743 -0.7568025   0.41211849 -0.28790332 -0.13235175]\n",
            "log(c):  [0.69314718 1.38629436 2.19722458 2.77258872 3.21887582]\n",
            "..........\n",
            "dot(d, e):  32\n",
            "..........\n",
            "mean 5.5\n",
            "median 5.5\n",
            "std 2.598076211353316\n",
            "var 6.75\n",
            "max 9\n",
            "min 1\n",
            "..........\n",
            "[[1 4 1]\n",
            " [2 6 4]\n",
            " [3 7 6]]\n",
            "[[ 1  8  3]\n",
            " [ 8 36 28]\n",
            " [ 3 28 36]]\n"
          ]
        }
      ]
    },
    {
      "cell_type": "markdown",
      "source": [
        "### Advanced Operations\n",
        "- Broadcasting\n",
        "- Filtering\n",
        "- Aggregation"
      ],
      "metadata": {
        "id": "3TGbLEfn9EEA"
      }
    },
    {
      "cell_type": "code",
      "source": [
        "print(a + g) # [1, 2, 3] + [[1, 2, 3] [4, 6, 7] [1, 4, 6]]\n",
        "print(g[g % 2 == 0])\n",
        "print(g.sum(axis=0))\n",
        "print(g.sum(axis=1))"
      ],
      "metadata": {
        "colab": {
          "base_uri": "https://localhost:8080/"
        },
        "id": "jML4US6H9C-Q",
        "outputId": "081cba7b-0051-43f5-f7b2-362731ec3f2e"
      },
      "execution_count": null,
      "outputs": [
        {
          "output_type": "stream",
          "name": "stdout",
          "text": [
            "[[ 2  4  6]\n",
            " [ 5  8 10]\n",
            " [ 2  6  9]]\n",
            "[2 4 6 4 6]\n",
            "[ 6 12 16]\n",
            "[ 6 17 11]\n"
          ]
        }
      ]
    },
    {
      "cell_type": "markdown",
      "source": [
        "# Pandas"
      ],
      "metadata": {
        "id": "OBTzJg6YT425"
      }
    },
    {
      "cell_type": "code",
      "source": [
        "import pandas as pd"
      ],
      "metadata": {
        "id": "bNaWB5BBg4FV"
      },
      "execution_count": null,
      "outputs": []
    },
    {
      "cell_type": "code",
      "source": [
        "series = pd.Series([\"Jean\", \"Maria\", \"Paul\", \"Thomas\"])\n",
        "data = pd.DataFrame({\"Name\": [\"Gabriela\", \"David\"], \"Age\": [18, 30], \"Status\": [\"Active\", \"Inactive\"]})\n",
        "\n",
        "print(series)\n",
        "print(\"..\"*10)\n",
        "print(data)"
      ],
      "metadata": {
        "colab": {
          "base_uri": "https://localhost:8080/"
        },
        "id": "FbH1cU7a5Tpz",
        "outputId": "6f8482f0-b780-47bb-f139-120336502580"
      },
      "execution_count": null,
      "outputs": [
        {
          "output_type": "stream",
          "name": "stdout",
          "text": [
            "0      Jean\n",
            "1     Maria\n",
            "2      Paul\n",
            "3    Thomas\n",
            "dtype: object\n",
            "....................\n",
            "       Name  Age    Status\n",
            "0  Gabriela   18    Active\n",
            "1     David   30  Inactive\n"
          ]
        }
      ]
    },
    {
      "cell_type": "code",
      "source": [
        "df_houses = pd.read_csv(\"sample_data/california_housing_test.csv\")"
      ],
      "metadata": {
        "id": "uoWwoOS4Hd3Q"
      },
      "execution_count": null,
      "outputs": []
    },
    {
      "cell_type": "code",
      "source": [
        "print(df_houses.info())\n",
        "print(df_houses.describe())"
      ],
      "metadata": {
        "colab": {
          "base_uri": "https://localhost:8080/"
        },
        "id": "YmcWRA6BIB-G",
        "outputId": "4028fbf5-5d85-4053-83e9-aa2bd14da052"
      },
      "execution_count": null,
      "outputs": [
        {
          "output_type": "stream",
          "name": "stdout",
          "text": [
            "<class 'pandas.core.frame.DataFrame'>\n",
            "RangeIndex: 3000 entries, 0 to 2999\n",
            "Data columns (total 9 columns):\n",
            " #   Column              Non-Null Count  Dtype  \n",
            "---  ------              --------------  -----  \n",
            " 0   longitude           3000 non-null   float64\n",
            " 1   latitude            3000 non-null   float64\n",
            " 2   housing_median_age  3000 non-null   float64\n",
            " 3   total_rooms         3000 non-null   float64\n",
            " 4   total_bedrooms      3000 non-null   float64\n",
            " 5   population          3000 non-null   float64\n",
            " 6   households          3000 non-null   float64\n",
            " 7   median_income       3000 non-null   float64\n",
            " 8   median_house_value  3000 non-null   float64\n",
            "dtypes: float64(9)\n",
            "memory usage: 211.1 KB\n",
            "None\n",
            "         longitude    latitude  housing_median_age   total_rooms  \\\n",
            "count  3000.000000  3000.00000         3000.000000   3000.000000   \n",
            "mean   -119.589200    35.63539           28.845333   2599.578667   \n",
            "std       1.994936     2.12967           12.555396   2155.593332   \n",
            "min    -124.180000    32.56000            1.000000      6.000000   \n",
            "25%    -121.810000    33.93000           18.000000   1401.000000   \n",
            "50%    -118.485000    34.27000           29.000000   2106.000000   \n",
            "75%    -118.020000    37.69000           37.000000   3129.000000   \n",
            "max    -114.490000    41.92000           52.000000  30450.000000   \n",
            "\n",
            "       total_bedrooms    population  households  median_income  \\\n",
            "count     3000.000000   3000.000000  3000.00000    3000.000000   \n",
            "mean       529.950667   1402.798667   489.91200       3.807272   \n",
            "std        415.654368   1030.543012   365.42271       1.854512   \n",
            "min          2.000000      5.000000     2.00000       0.499900   \n",
            "25%        291.000000    780.000000   273.00000       2.544000   \n",
            "50%        437.000000   1155.000000   409.50000       3.487150   \n",
            "75%        636.000000   1742.750000   597.25000       4.656475   \n",
            "max       5419.000000  11935.000000  4930.00000      15.000100   \n",
            "\n",
            "       median_house_value  \n",
            "count          3000.00000  \n",
            "mean         205846.27500  \n",
            "std          113119.68747  \n",
            "min           22500.00000  \n",
            "25%          121200.00000  \n",
            "50%          177650.00000  \n",
            "75%          263975.00000  \n",
            "max          500001.00000  \n"
          ]
        }
      ]
    },
    {
      "cell_type": "code",
      "source": [
        "print(df_houses.head())\n",
        "print(df_houses.tail())"
      ],
      "metadata": {
        "colab": {
          "base_uri": "https://localhost:8080/"
        },
        "id": "XXQR1-GRHm04",
        "outputId": "2ada4579-6c90-4d48-8bcf-f5f6d21ba891"
      },
      "execution_count": null,
      "outputs": [
        {
          "output_type": "stream",
          "name": "stdout",
          "text": [
            "   longitude  latitude  housing_median_age  total_rooms  total_bedrooms  \\\n",
            "0    -122.05     37.37                27.0       3885.0           661.0   \n",
            "1    -118.30     34.26                43.0       1510.0           310.0   \n",
            "2    -117.81     33.78                27.0       3589.0           507.0   \n",
            "3    -118.36     33.82                28.0         67.0            15.0   \n",
            "4    -119.67     36.33                19.0       1241.0           244.0   \n",
            "\n",
            "   population  households  median_income  median_house_value  \n",
            "0      1537.0       606.0         6.6085            344700.0  \n",
            "1       809.0       277.0         3.5990            176500.0  \n",
            "2      1484.0       495.0         5.7934            270500.0  \n",
            "3        49.0        11.0         6.1359            330000.0  \n",
            "4       850.0       237.0         2.9375             81700.0  \n",
            "      longitude  latitude  housing_median_age  total_rooms  total_bedrooms  \\\n",
            "2995    -119.86     34.42                23.0       1450.0           642.0   \n",
            "2996    -118.14     34.06                27.0       5257.0          1082.0   \n",
            "2997    -119.70     36.30                10.0        956.0           201.0   \n",
            "2998    -117.12     34.10                40.0         96.0            14.0   \n",
            "2999    -119.63     34.42                42.0       1765.0           263.0   \n",
            "\n",
            "      population  households  median_income  median_house_value  \n",
            "2995      1258.0       607.0         1.1790            225000.0  \n",
            "2996      3496.0      1036.0         3.3906            237200.0  \n",
            "2997       693.0       220.0         2.2895             62000.0  \n",
            "2998        46.0        14.0         3.2708            162500.0  \n",
            "2999       753.0       260.0         8.5608            500001.0  \n"
          ]
        }
      ]
    },
    {
      "cell_type": "code",
      "source": [
        "print(\"Select: \", df_houses[[\"total_rooms\", \"total_bedrooms\"]])\n",
        "print(\"Filter: \", df_houses[(df_houses[\"total_rooms\"] > 300) & (df_houses[\"population\"] > 300)])\n",
        "print(\"Position by Column: \", df_houses.iloc[0])\n",
        "print(\"Position by Label: \", df_houses.loc[0])"
      ],
      "metadata": {
        "colab": {
          "base_uri": "https://localhost:8080/"
        },
        "id": "oGc82W24IKhO",
        "outputId": "25f9ad70-6d48-42fc-d8a9-9c66df1dc1f4"
      },
      "execution_count": null,
      "outputs": [
        {
          "output_type": "stream",
          "name": "stdout",
          "text": [
            "Select:        total_rooms  total_bedrooms\n",
            "0          3885.0           661.0\n",
            "1          1510.0           310.0\n",
            "2          3589.0           507.0\n",
            "3            67.0            15.0\n",
            "4          1241.0           244.0\n",
            "...           ...             ...\n",
            "2995       1450.0           642.0\n",
            "2996       5257.0          1082.0\n",
            "2997        956.0           201.0\n",
            "2998         96.0            14.0\n",
            "2999       1765.0           263.0\n",
            "\n",
            "[3000 rows x 2 columns]\n",
            "Filter:        longitude  latitude  housing_median_age  total_rooms  total_bedrooms  \\\n",
            "0       -122.05     37.37                27.0       3885.0           661.0   \n",
            "1       -118.30     34.26                43.0       1510.0           310.0   \n",
            "2       -117.81     33.78                27.0       3589.0           507.0   \n",
            "4       -119.67     36.33                19.0       1241.0           244.0   \n",
            "5       -119.56     36.51                37.0       1018.0           213.0   \n",
            "...         ...       ...                 ...          ...             ...   \n",
            "2994    -117.93     33.86                35.0        931.0           181.0   \n",
            "2995    -119.86     34.42                23.0       1450.0           642.0   \n",
            "2996    -118.14     34.06                27.0       5257.0          1082.0   \n",
            "2997    -119.70     36.30                10.0        956.0           201.0   \n",
            "2999    -119.63     34.42                42.0       1765.0           263.0   \n",
            "\n",
            "      population  households  median_income  median_house_value  \n",
            "0         1537.0       606.0         6.6085            344700.0  \n",
            "1          809.0       277.0         3.5990            176500.0  \n",
            "2         1484.0       495.0         5.7934            270500.0  \n",
            "4          850.0       237.0         2.9375             81700.0  \n",
            "5          663.0       204.0         1.6635             67000.0  \n",
            "...          ...         ...            ...                 ...  \n",
            "2994       516.0       174.0         5.5867            182500.0  \n",
            "2995      1258.0       607.0         1.1790            225000.0  \n",
            "2996      3496.0      1036.0         3.3906            237200.0  \n",
            "2997       693.0       220.0         2.2895             62000.0  \n",
            "2999       753.0       260.0         8.5608            500001.0  \n",
            "\n",
            "[2873 rows x 9 columns]\n",
            "Position by Column:  longitude               -122.0500\n",
            "latitude                  37.3700\n",
            "housing_median_age        27.0000\n",
            "total_rooms             3885.0000\n",
            "total_bedrooms           661.0000\n",
            "population              1537.0000\n",
            "households               606.0000\n",
            "median_income              6.6085\n",
            "median_house_value    344700.0000\n",
            "Name: 0, dtype: float64\n",
            "Position by Label:  longitude               -122.0500\n",
            "latitude                  37.3700\n",
            "housing_median_age        27.0000\n",
            "total_rooms             3885.0000\n",
            "total_bedrooms           661.0000\n",
            "population              1537.0000\n",
            "households               606.0000\n",
            "median_income              6.6085\n",
            "median_house_value    344700.0000\n",
            "Name: 0, dtype: float64\n"
          ]
        }
      ]
    }
  ]
}