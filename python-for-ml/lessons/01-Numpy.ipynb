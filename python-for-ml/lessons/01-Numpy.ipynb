{
 "cells": [
  {
   "cell_type": "markdown",
   "metadata": {
    "id": "j6CSgwJQ40Zn"
   },
   "source": [
    "# NumPy\n",
    "## Basis\n",
    "### Built-in Functions"
   ]
  },
  {
   "cell_type": "code",
   "execution_count": 1,
   "metadata": {
    "id": "gsxrbF_C4W1R"
   },
   "outputs": [],
   "source": [
    "import numpy as np"
   ]
  },
  {
   "cell_type": "code",
   "execution_count": 2,
   "metadata": {
    "colab": {
     "base_uri": "https://localhost:8080/"
    },
    "id": "dXcvsTM44df1",
    "outputId": "a5d821e6-ea29-4f44-a55c-75c8f9f1dc72"
   },
   "outputs": [
    {
     "name": "stdout",
     "output_type": "stream",
     "text": [
      "arr:  [1 2 3 4 5 6]\n",
      "zeros:  [[0. 0. 0.]\n",
      " [0. 0. 0.]]\n",
      "ones:  [[1. 1. 1.]\n",
      " [1. 1. 1.]]\n",
      "range:  [0 2 4 6 8]\n",
      "linspace:  [ 0.   2.5  5.   7.5 10. ]\n"
     ]
    }
   ],
   "source": [
    "arr = np.array([1, 2, 3, 4, 5, 6])\n",
    "print(\"arr: \", arr)\n",
    "\n",
    "zeros = np.zeros((2, 3))\n",
    "print(\"zeros: \", zeros)\n",
    "\n",
    "ones = np.ones((2, 3))\n",
    "print(\"ones: \", ones)\n",
    "\n",
    "range_arr = np.arange(0, 10, 2)\n",
    "print(\"range: \", range_arr)\n",
    "\n",
    "linspace = np.linspace(0, 10, 5)\n",
    "print(\"linspace: \", linspace)"
   ]
  },
  {
   "cell_type": "markdown",
   "metadata": {
    "id": "6Gu0awtA5xM9"
   },
   "source": [
    "### Operations\n",
    "- Element-wise Operations\n",
    "- Math Operations"
   ]
  },
  {
   "cell_type": "code",
   "execution_count": 3,
   "metadata": {
    "colab": {
     "base_uri": "https://localhost:8080/"
    },
    "id": "kD42s7Hc4zfQ",
    "outputId": "4fb1e343-4dce-4038-b719-79e4d8bff4df"
   },
   "outputs": [
    {
     "data": {
      "text/plain": [
       "array([[1, 2],\n",
       "       [3, 4],\n",
       "       [5, 6]])"
      ]
     },
     "execution_count": 3,
     "metadata": {},
     "output_type": "execute_result"
    }
   ],
   "source": [
    "arr.reshape((3, 2)) # Allow change shape of array, length should be get by (a, b)"
   ]
  },
  {
   "cell_type": "code",
   "execution_count": 4,
   "metadata": {
    "colab": {
     "base_uri": "https://localhost:8080/"
    },
    "id": "eGTLdoF-5w5V",
    "outputId": "59f05416-079f-49ce-b4b4-35d1e253599e"
   },
   "outputs": [
    {
     "name": "stdout",
     "output_type": "stream",
     "text": [
      "a + b:  [5 7 9]\n",
      "a - b:  [-3 -3 -3]\n",
      "a * b:  [ 4 10 18]\n",
      "a / b:  [0.25 0.4  0.5 ]\n",
      "..........\n",
      "sqrt(c):  [1.41421356 2.         3.         4.         5.        ]\n",
      "sin(c):  [ 0.90929743 -0.7568025   0.41211849 -0.28790332 -0.13235175]\n",
      "log(c):  [0.69314718 1.38629436 2.19722458 2.77258872 3.21887582]\n",
      "..........\n",
      "dot(d, e):  32\n",
      "..........\n",
      "mean 5.5\n",
      "median 5.5\n",
      "std 2.598076211353316\n",
      "var 6.75\n",
      "max 9\n",
      "min 1\n",
      "..........\n",
      "[[1 4 1]\n",
      " [2 6 4]\n",
      " [3 7 6]]\n",
      "[[ 1  8  3]\n",
      " [ 8 36 28]\n",
      " [ 3 28 36]]\n"
     ]
    }
   ],
   "source": [
    "a = np.array([1, 2, 3])\n",
    "b = np.array([4, 5, 6])\n",
    "print(\"a + b: \", a + b)\n",
    "print(\"a - b: \", a - b)\n",
    "print(\"a * b: \", a * b)\n",
    "print(\"a / b: \", a / b)\n",
    "\n",
    "print(\".\" * 10)\n",
    "\n",
    "c = np.array([2, 4, 9, 16, 25])\n",
    "print(\"sqrt(c): \", np.sqrt(c))\n",
    "print(\"sin(c): \", np.sin(c))\n",
    "print(\"log(c): \", np.log(c))\n",
    "\n",
    "print(\".\" * 10)\n",
    "\n",
    "d = np.array([1, 2, 3])\n",
    "e = np.array([4, 5, 6])\n",
    "print(\"dot(d, e): \", np.dot(d, e))\n",
    "\n",
    "print(\".\" * 10)\n",
    "\n",
    "f = np.array([1, 3, 4, 5, 6, 8, 8, 9])\n",
    "print(\"mean\", np.mean(f))\n",
    "print(\"median\", np.median(f))\n",
    "print(\"std\", np.std(f))\n",
    "print(\"var\", np.var(f))\n",
    "print(\"max\", np.max(f))\n",
    "print(\"min\", np.min(f))\n",
    "\n",
    "print(\".\" * 10)\n",
    "\n",
    "g = np.array([[1, 2, 3], [4, 6, 7], [1, 4, 6]])\n",
    "print(g.T)\n",
    "print(g.T * g)"
   ]
  },
  {
   "cell_type": "markdown",
   "metadata": {
    "id": "3TGbLEfn9EEA"
   },
   "source": [
    "### Advanced Operations\n",
    "- Broadcasting\n",
    "- Filtering\n",
    "- Aggregation"
   ]
  },
  {
   "cell_type": "code",
   "execution_count": 5,
   "metadata": {
    "colab": {
     "base_uri": "https://localhost:8080/"
    },
    "id": "jML4US6H9C-Q",
    "outputId": "808b15dd-ba77-4f0a-8aaa-27b445a8d7a2"
   },
   "outputs": [
    {
     "name": "stdout",
     "output_type": "stream",
     "text": [
      "[[ 2  4  6]\n",
      " [ 5  8 10]\n",
      " [ 2  6  9]]\n",
      "[2 4 6 4 6]\n",
      "[ 6 12 16]\n",
      "[ 6 17 11]\n"
     ]
    }
   ],
   "source": [
    "print(a + g) # [1, 2, 3] + [[1, 2, 3] [4, 6, 7] [1, 4, 6]]\n",
    "print(g[g % 2 == 0])\n",
    "print(g.sum(axis=0))\n",
    "print(g.sum(axis=1))"
   ]
  }
 ],
 "metadata": {
  "colab": {
   "provenance": []
  },
  "kernelspec": {
   "display_name": "Python 3",
   "language": "python",
   "name": "python3"
  },
  "language_info": {
   "codemirror_mode": {
    "name": "ipython",
    "version": 3
   },
   "file_extension": ".py",
   "mimetype": "text/x-python",
   "name": "python",
   "nbconvert_exporter": "python",
   "pygments_lexer": "ipython3",
   "version": "3.9.5"
  }
 },
 "nbformat": 4,
 "nbformat_minor": 4
}
