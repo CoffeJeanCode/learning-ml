{
 "cells": [
  {
   "cell_type": "markdown",
   "id": "0bf64a0a",
   "metadata": {},
   "source": [
    "# Statitics Fundamentals\n"
   ]
  },
  {
   "cell_type": "code",
   "execution_count": null,
   "id": "2e20b6ba",
   "metadata": {},
   "outputs": [],
   "source": [
    "import scipy.stats as stats\n",
    "import numpy as np\n",
    "import pandas as pd\n",
    "import matplotlib.pyplot as plt\n",
    "import seaborn as sns \n",
    "from itertools import product"
   ]
  },
  {
   "cell_type": "markdown",
   "id": "c7a7b82c",
   "metadata": {},
   "source": [
    "## Measure of Central Tendency and Dispersion\n",
    "- Central Tendency\n",
    "  - Mean: The **average** value of dataset\n",
    "  - Median: The **middle** value when data is sorted\n",
    "  - Mode: The most **frequently** occurring value\n",
    "- Dispersion\n",
    "  - Variance: The average squared deviation from the mean\n",
    "  - Standard Deviation: The square root of vairance, indicanting the spread of data"
   ]
  },
  {
   "cell_type": "code",
   "execution_count": null,
   "id": "df72de70",
   "metadata": {},
   "outputs": [
    {
     "name": "stdout",
     "output_type": "stream",
     "text": [
      "Mean:  116.0\n",
      "Median:  44.0\n",
      "Mode:  65\n"
     ]
    }
   ],
   "source": [
    "data = [35, 54, 43, 23, 54, 65, 23, 435, 65, 45, 543, 65, 34, 34, 523, 2, 11, 34]\n",
    "sorted_data = sorted(data)\n",
    "\n",
    "\n",
    "mean = sum(data) / len(data)\n",
    "median = sorted_data[len(data) // 2] if len(data) % 2 != 0 else \\\n",
    " (sorted_data[len(data) // 2 - 1] + sorted_data[len(data) // 2]) / 2\n",
    "mode = max(set(data), key=data.count)\n",
    "\n",
    "print(\"Mean: \", mean)\n",
    "print(\"Median: \", median)\n",
    "print(\"Mode: \", mode)"
   ]
  },
  {
   "cell_type": "code",
   "execution_count": null,
   "id": "07acc057",
   "metadata": {},
   "outputs": [
    {
     "name": "stdout",
     "output_type": "stream",
     "text": [
      "Variance:  30202.88888888889\n",
      "Standard Deviation:  173.78978361482842\n"
     ]
    }
   ],
   "source": [
    "variance = sum((x - mean) ** 2 for x in data) / len(data)\n",
    "std_deviation = variance ** 0.5\n",
    "\n",
    "print(\"Variance: \", variance)\n",
    "print(\"Standard Deviation: \", std_deviation)"
   ]
  },
  {
   "cell_type": "markdown",
   "id": "416f8d51",
   "metadata": {},
   "source": [
    "## Hypothesis Testing\n",
    "1. Formule hypotheses\n",
    "  - Null hypotheses ($h0$): Assume that there is no effect or difference in the population being studied.\n",
    "  - Alternative hypotheses ($h1$): Assume that contradicts the null hypothesis and suggests that there is a statistically significant effect or relationship between variables in a study\n",
    "2. Calculate test statitics: Measure the difference\n",
    "3. Determine P-value\n",
    "4. Interpret results"
   ]
  },
  {
   "cell_type": "markdown",
   "id": "eaa2135a",
   "metadata": {},
   "source": [
    " ## Confidence Intervals and Statistical Significance\n",
    " - Confidence Interval: Range of values within witch the ture population parameter is expected to lie\n",
    " $$CI = \\bar{x} \\pm z^* \\left( \\frac{\\sigma}{\\sqrt{n}} \\right)$$\n"
   ]
  },
  {
   "cell_type": "code",
   "execution_count": null,
   "id": "05d6e0e3",
   "metadata": {},
   "outputs": [
    {
     "name": "stdout",
     "output_type": "stream",
     "text": [
      "(42.26723930300723, 189.73276069699278)\n"
     ]
    }
   ],
   "source": [
    "sample_mean = mean\n",
    "z_score = 1.8 # Condifidence Score\n",
    "\n",
    "ci = (sample_mean - z_score * std_deviation / np.sqrt(len(data)),\n",
    "      sample_mean + z_score * std_deviation / np.sqrt(len(data)))\n",
    "print(ci)"
   ]
  },
  {
   "cell_type": "markdown",
   "id": "40c0f77e",
   "metadata": {},
   "source": [
    "## Probability *Basics*"
   ]
  },
  {
   "cell_type": "markdown",
   "id": "1cea5c50",
   "metadata": {},
   "source": [
    "### Concepts\n",
    "- Sample Space & Events\n",
    "  - Sample Space: The **set** of all possible outcomes of a random experiment\n",
    "  - Events: A **subset** of the sample space"
   ]
  },
  {
   "cell_type": "code",
   "execution_count": 4,
   "id": "835dd0cd",
   "metadata": {},
   "outputs": [
    {
     "data": {
      "text/plain": [
       "[1, 2, 3, 4, 5, 6]"
      ]
     },
     "execution_count": 4,
     "metadata": {},
     "output_type": "execute_result"
    }
   ],
   "source": [
    "sample_space = list(range(1, 7))\n",
    "sample_space"
   ]
  },
  {
   "cell_type": "code",
   "execution_count": 9,
   "id": "2cc66032",
   "metadata": {},
   "outputs": [
    {
     "data": {
      "text/plain": [
       "0.5"
      ]
     },
     "execution_count": 9,
     "metadata": {},
     "output_type": "execute_result"
    }
   ],
   "source": [
    "even_numbers = [2, 4, 6]\n",
    "Prob_even = len(even_numbers) / len(sample_space)\n",
    "Prob_even"
   ]
  },
  {
   "cell_type": "markdown",
   "id": "fcf1ef99",
   "metadata": {},
   "source": [
    "### Random variables\n",
    "- Map outcomes of a random experiment to numerical values\n",
    "  - Types: Discrete or Continuous\n",
    "- Probability Mass Function (PMF)\n",
    "  - Probability distribution of a discrete random variable like a dice.\n",
    "- Probability Density Function (PDF)\n",
    "  - Probability distribution of a continuous variable like weight. "
   ]
  },
  {
   "cell_type": "markdown",
   "id": "57ba028d",
   "metadata": {},
   "source": [
    "### Expectation, Variance & Starndart Deviation\n",
    "- Expectation\n",
    "  - Weighted average of a random variable's possible values\n",
    "  $$\n",
    "  E[X] = \\sum_{x}x\\cdot P(X=x) \\space (Discrete)\n",
    "  $$\n",
    "  $$\n",
    "  E[X] = \\int_{-\\infty}^{\\infty}{x}\\cdot f(x) dx \\space (Continuous)\n",
    "  $$\n",
    "- Variance\n",
    "  - Measures the spread of a random variable\n",
    "  $$\n",
    "  Var[X] = E[(X - E[X]){^2}]\n",
    "  $$\n",
    "- Standart Deviation\n",
    "  - Square root of variance\n",
    "  $$\n",
    "  \\sigma x = \\sqrt{ Var[X] }\n",
    "  $$ "
   ]
  },
  {
   "cell_type": "code",
   "execution_count": 15,
   "id": "9f53a7df",
   "metadata": {},
   "outputs": [
    {
     "data": {
      "text/plain": [
       "array([0.16666667, 0.16666667, 0.16666667, 0.16666667, 0.16666667,\n",
       "       0.16666667])"
      ]
     },
     "execution_count": 15,
     "metadata": {},
     "output_type": "execute_result"
    }
   ],
   "source": [
    "outcomes = np.array(list(range(1, 7)))\n",
    "probabilities = np.array([1 / 6] * 6)\n",
    "probabilities"
   ]
  },
  {
   "cell_type": "code",
   "execution_count": 16,
   "id": "1d86979b",
   "metadata": {},
   "outputs": [
    {
     "data": {
      "text/plain": [
       "np.float64(3.5)"
      ]
     },
     "execution_count": 16,
     "metadata": {},
     "output_type": "execute_result"
    }
   ],
   "source": [
    "expectation = np.sum(outcomes * probabilities)\n",
    "expectation"
   ]
  },
  {
   "cell_type": "code",
   "execution_count": 20,
   "id": "92536f35",
   "metadata": {},
   "outputs": [
    {
     "name": "stdout",
     "output_type": "stream",
     "text": [
      "Variance 2.9166666666666665\n",
      "STD Deviation 1.707825127659933\n"
     ]
    }
   ],
   "source": [
    "variance = np.sum((outcomes - expectation) ** 2 * probabilities)\n",
    "std_deviation = np.sqrt(variance)\n",
    "print(\"Variance\", variance)\n",
    "print(\"STD Deviation\", std_deviation)"
   ]
  },
  {
   "cell_type": "code",
   "execution_count": 32,
   "id": "ffa385e3",
   "metadata": {},
   "outputs": [
    {
     "name": "stdout",
     "output_type": "stream",
     "text": [
      "P(even): 0.5\n",
      "P(x > 2): 0.8\n"
     ]
    }
   ],
   "source": [
    "rolls = np.random.randint(1, 7, size=10)\n",
    "P_even = np.sum(rolls % 2 == 0) / len(rolls)\n",
    "P_greater_than_2 = np.sum(rolls > 2) / len(rolls)\n",
    "\n",
    "print(\"P(even):\", P_even)\n",
    "print(\"P(x > 2):\", P_greater_than_2)"
   ]
  },
  {
   "cell_type": "code",
   "execution_count": 39,
   "id": "39e11fb1",
   "metadata": {},
   "outputs": [
    {
     "data": {
      "image/png": "[encoded data removed]",
      "text/plain": [
       "<Figure size 640x480 with 1 Axes>"
      ]
     },
     "metadata": {},
     "output_type": "display_data"
    }
   ],
   "source": [
    "plt.bar(outcomes, probabilities)\n",
    "plt.title(\"PMF of a dice roll\")\n",
    "plt.xlabel(\"Outcomes\")\n",
    "plt.ylabel(\"Probability\")\n",
    "plt.show()"
   ]
  },
  {
   "cell_type": "code",
   "execution_count": 45,
   "id": "7110de4d",
   "metadata": {},
   "outputs": [
    {
     "data": {
      "image/png": "[encoded data removed]",
      "text/plain": [
       "<Figure size 640x480 with 1 Axes>"
      ]
     },
     "metadata": {},
     "output_type": "display_data"
    }
   ],
   "source": [
    "x = np.linspace(0, 1, 100)\n",
    "pdf = stats.uniform.pdf(x, loc=0, scale=1)\n",
    "\n",
    "plt.plot(x, pdf, color=\"orange\")\n",
    "plt.title(\"PDF of uniform (0, 1)\")\n",
    "plt.xlabel(\"x\")\n",
    "plt.ylabel(\"f(x)\")\n",
    "plt.show()"
   ]
  },
  {
   "cell_type": "markdown",
   "id": "30575b8a",
   "metadata": {},
   "source": [
    "### Conditional Probability\n",
    "- The probability of an event A given that event B has ocurred"
   ]
  },
  {
   "cell_type": "code",
   "execution_count": 3,
   "id": "ac4f28eb",
   "metadata": {},
   "outputs": [],
   "source": [
    "def bayes_theorem(prior, likelihood, evidence):\n",
    "  return (likelihood * prior) / evidence"
   ]
  },
  {
   "cell_type": "markdown",
   "id": "27ab46f7",
   "metadata": {},
   "source": [
    "## Common Probability Distributions"
   ]
  },
  {
   "cell_type": "markdown",
   "id": "444c8cf8",
   "metadata": {},
   "source": [
    "### Gaussian Distributions (Normal)\n",
    "- Bell-shaped curve with mean ($\\mu$) and standart deviation($\\sigma$)\n",
    "\n",
    "$$\n",
    "f(x) = \\frac{1}{\\sqrt{ 2\\pi \\sigma{^2}}}e{^-\\frac{1(x-\\mu){^2}}{2\\sigma{^2}}}\n",
    "$$"
   ]
  },
  {
   "cell_type": "code",
   "execution_count": 4,
   "id": "f9675fed",
   "metadata": {},
   "outputs": [
    {
     "data": {
      "image/png": "[encoded data removed]",
      "text/plain": [
       "<Figure size 432x288 with 1 Axes>"
      ]
     },
     "metadata": {
      "needs_background": "light"
     },
     "output_type": "display_data"
    }
   ],
   "source": [
    "mu, sigma = 0, 1\n",
    "\n",
    "x = np.linspace(-4, 4, 100)\n",
    "y = (1/(sigma * np.sqrt(2 * np.pi))) * np.exp(-(x - mu)**2 / (2 * sigma**2))\n",
    "\n",
    "plt.plot(x, y)\n",
    "plt.title(\"Gaussian Distribution\")\n",
    "plt.show()"
   ]
  },
  {
   "cell_type": "markdown",
   "id": "9b8decd4",
   "metadata": {},
   "source": [
    "### Bernoulli Distribution\n",
    "- Describes outcomes of a binary experiment\n",
    "$$P(X=1) = p, \\space P(X = 0) = 1 - p$$"
   ]
  },
  {
   "cell_type": "code",
   "execution_count": 5,
   "id": "204d68da",
   "metadata": {},
   "outputs": [
    {
     "data": {
      "image/png": "[encoded data removed]",
      "text/plain": [
       "<Figure size 432x288 with 1 Axes>"
      ]
     },
     "metadata": {
      "needs_background": "light"
     },
     "output_type": "display_data"
    }
   ],
   "source": [
    "p = np.random.rand()\n",
    "plt.bar([0, 1], [1 - p, p], color=\"green\")\n",
    "plt.title(\"Bernoulli Distribution\")\n",
    "plt.xticks([0, 1], labels=[\"0 (Fail)\", \"1 (Success)\"])\n",
    "plt.show()"
   ]
  },
  {
   "cell_type": "markdown",
   "id": "7d950d4f",
   "metadata": {},
   "source": [
    "### Bionomial Distribution\n",
    "- Models the number of successes in $n$ independent Bernoulli trails\n",
    "$$P(x = k) = \\binom{n}{k}p{^k}(1 - p){^{n-k}}$$"
   ]
  },
  {
   "cell_type": "code",
   "execution_count": 6,
   "id": "0d4ff185-bbe6-4c4a-a515-6f973d87dd2f",
   "metadata": {},
   "outputs": [],
   "source": [
    "from scipy.stats import binom"
   ]
  },
  {
   "cell_type": "code",
   "execution_count": 7,
   "id": "6512c57a",
   "metadata": {},
   "outputs": [
    {
     "data": {
      "image/png": "[encoded data removed]",
      "text/plain": [
       "<Figure size 432x288 with 1 Axes>"
      ]
     },
     "metadata": {
      "needs_background": "light"
     },
     "output_type": "display_data"
    }
   ],
   "source": [
    "n = 100\n",
    "p = 0.5\n",
    "k = np.arange(0, n + 1)\n",
    "y = binom.pmf(k, n, p)\n",
    "\n",
    "plt.bar(k, y, color=\"blue\")\n",
    "plt.title(\"Bionomial Distribution\")\n",
    "plt.show()"
   ]
  },
  {
   "cell_type": "markdown",
   "id": "6f2444c6",
   "metadata": {},
   "source": [
    "### Poisson Distribution\n",
    "- Models the number of events in a fixed interval of time or space\n",
    "$$P(X = k) = \\frac{\\lambda_{k} e{^-\\lambda}}{k!}$$"
   ]
  },
  {
   "cell_type": "code",
   "execution_count": 6,
   "id": "c62ef63d",
   "metadata": {},
   "outputs": [
    {
     "data": {
      "image/png": "[encoded data removed]",
      "text/plain": [
       "<Figure size 640x480 with 1 Axes>"
      ]
     },
     "metadata": {},
     "output_type": "display_data"
    }
   ],
   "source": [
    "from scipy.stats import poisson\n",
    "\n",
    "mu = 5\n",
    "k = np.arange(0, 10)\n",
    "y = poisson.pmf(k, mu)\n",
    "\n",
    "plt.bar(k, y, color=\"orange\")\n",
    "plt.title(\"Poisson Distribution\")\n",
    "plt.show()"
   ]
  },
  {
   "cell_type": "markdown",
   "id": "f0735356",
   "metadata": {},
   "source": [
    "### Applications in ML\n",
    "- Gaussian Distribution\n",
    "  - Used in Gaussian Naive Bayes  and kernel density estimation\n",
    "- Bernoulli Distribution\n",
    "  - Model binary classification problems\n",
    "- Binomial Distribution\n",
    "  - Use in logistic regression to model binary outcomes\n",
    "- Poisson Distribution\n",
    "  - Models count data"
   ]
  },
  {
   "cell_type": "code",
   "execution_count": 9,
   "id": "2c2c79fc",
   "metadata": {},
   "outputs": [
    {
     "data": {
      "text/html": [
       "<div>\n",
       "<style scoped>\n",
       "    .dataframe tbody tr th:only-of-type {\n",
       "        vertical-align: middle;\n",
       "    }\n",
       "\n",
       "    .dataframe tbody tr th {\n",
       "        vertical-align: top;\n",
       "    }\n",
       "\n",
       "    .dataframe thead th {\n",
       "        text-align: right;\n",
       "    }\n",
       "</style>\n",
       "<table border=\"1\" class=\"dataframe\">\n",
       "  <thead>\n",
       "    <tr style=\"text-align: right;\">\n",
       "      <th></th>\n",
       "      <th>Id</th>\n",
       "      <th>SepalLengthCm</th>\n",
       "      <th>SepalWidthCm</th>\n",
       "      <th>PetalLengthCm</th>\n",
       "      <th>PetalWidthCm</th>\n",
       "      <th>Species</th>\n",
       "    </tr>\n",
       "  </thead>\n",
       "  <tbody>\n",
       "    <tr>\n",
       "      <th>0</th>\n",
       "      <td>1</td>\n",
       "      <td>5.1</td>\n",
       "      <td>3.5</td>\n",
       "      <td>1.4</td>\n",
       "      <td>0.2</td>\n",
       "      <td>Iris-setosa</td>\n",
       "    </tr>\n",
       "    <tr>\n",
       "      <th>1</th>\n",
       "      <td>2</td>\n",
       "      <td>4.9</td>\n",
       "      <td>3.0</td>\n",
       "      <td>1.4</td>\n",
       "      <td>0.2</td>\n",
       "      <td>Iris-setosa</td>\n",
       "    </tr>\n",
       "    <tr>\n",
       "      <th>2</th>\n",
       "      <td>3</td>\n",
       "      <td>4.7</td>\n",
       "      <td>3.2</td>\n",
       "      <td>1.3</td>\n",
       "      <td>0.2</td>\n",
       "      <td>Iris-setosa</td>\n",
       "    </tr>\n",
       "    <tr>\n",
       "      <th>3</th>\n",
       "      <td>4</td>\n",
       "      <td>4.6</td>\n",
       "      <td>3.1</td>\n",
       "      <td>1.5</td>\n",
       "      <td>0.2</td>\n",
       "      <td>Iris-setosa</td>\n",
       "    </tr>\n",
       "    <tr>\n",
       "      <th>4</th>\n",
       "      <td>5</td>\n",
       "      <td>5.0</td>\n",
       "      <td>3.6</td>\n",
       "      <td>1.4</td>\n",
       "      <td>0.2</td>\n",
       "      <td>Iris-setosa</td>\n",
       "    </tr>\n",
       "  </tbody>\n",
       "</table>\n",
       "</div>"
      ],
      "text/plain": [
       "   Id  SepalLengthCm  SepalWidthCm  PetalLengthCm  PetalWidthCm      Species\n",
       "0   1            5.1           3.5            1.4           0.2  Iris-setosa\n",
       "1   2            4.9           3.0            1.4           0.2  Iris-setosa\n",
       "2   3            4.7           3.2            1.3           0.2  Iris-setosa\n",
       "3   4            4.6           3.1            1.5           0.2  Iris-setosa\n",
       "4   5            5.0           3.6            1.4           0.2  Iris-setosa"
      ]
     },
     "execution_count": 9,
     "metadata": {},
     "output_type": "execute_result"
    }
   ],
   "source": [
    "df_iris = pd.read_csv(\"/app/sample-data/iris.csv\")\n",
    "\n",
    "df_iris.head()"
   ]
  },
  {
   "cell_type": "code",
   "execution_count": 12,
   "id": "159a229c",
   "metadata": {},
   "outputs": [
    {
     "name": "stdout",
     "output_type": "stream",
     "text": [
      "Skewness 0.3117530585022963\n",
      "Kurtosis -0.5735679489249765\n"
     ]
    }
   ],
   "source": [
    "feature = df_iris[\"SepalLengthCm\"]\n",
    "\n",
    "print(\"Skewness\", stats.skew(feature))\n",
    "print(\"Kurtosis\", stats.kurtosis(feature))"
   ]
  },
  {
   "cell_type": "code",
   "execution_count": 19,
   "id": "095a825f",
   "metadata": {},
   "outputs": [
    {
     "data": {
      "image/png": "[encoded data removed]",
      "text/plain": [
       "<Figure size 640x480 with 1 Axes>"
      ]
     },
     "metadata": {},
     "output_type": "display_data"
    }
   ],
   "source": [
    "sns.histplot(feature, kde=True)\n",
    "plt.title(\"Distribution of Sepal Length\")\n",
    "plt.xlabel(\"Sepal Length (CM)\")\n",
    "plt.show()"
   ]
  }
 ],
 "metadata": {
  "kernelspec": {
   "display_name": "Python 3 (ipykernel)",
   "language": "python",
   "name": "python3"
  },
  "language_info": {
   "codemirror_mode": {
    "name": "ipython",
    "version": 3
   },
   "file_extension": ".py",
   "mimetype": "text/x-python",
   "name": "python",
   "nbconvert_exporter": "python",
   "pygments_lexer": "ipython3",
   "version": "3.11.13"
  }
 },
 "nbformat": 4,
 "nbformat_minor": 5
}
