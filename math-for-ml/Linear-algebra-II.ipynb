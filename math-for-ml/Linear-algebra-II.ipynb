{
 "cells": [
  {
   "cell_type": "markdown",
   "id": "0f8e9a72",
   "metadata": {},
   "source": [
    "## Linear Algebra II"
   ]
  },
  {
   "cell_type": "code",
   "execution_count": 2,
   "id": "e49eb2d1",
   "metadata": {},
   "outputs": [],
   "source": [
    "import numpy as np\n",
    "import matplotlib.pyplot as plt"
   ]
  },
  {
   "cell_type": "markdown",
   "id": "a95aa35a",
   "metadata": {},
   "source": [
    "### Tensor Operations\n",
    "  - Artmetics\n",
    "  - Tranposition\n",
    "  - Reduce operations"
   ]
  },
  {
   "cell_type": "code",
   "execution_count": 3,
   "id": "bddf3486",
   "metadata": {},
   "outputs": [
    {
     "data": {
      "text/plain": [
       "array([[1, 3],\n",
       "       [2, 4]])"
      ]
     },
     "execution_count": 3,
     "metadata": {},
     "output_type": "execute_result"
    }
   ],
   "source": [
    "arr = np.array([[1, 2], [3, 4]]) # Transposition\n",
    "arr.T"
   ]
  },
  {
   "cell_type": "code",
   "execution_count": 4,
   "id": "508f570c",
   "metadata": {},
   "outputs": [
    {
     "name": "stdout",
     "output_type": "stream",
     "text": [
      "Sum:  [[3 4]\n",
      " [5 6]]\n",
      "Rest:  [[-1  0]\n",
      " [ 1  2]]\n",
      "Mult:  [[2 4]\n",
      " [6 8]]\n",
      "Div:  [[0.5 1. ]\n",
      " [1.5 2. ]]\n"
     ]
    }
   ],
   "source": [
    "print(\"Sum: \", arr + 2)\n",
    "print(\"Rest: \", arr - 2)\n",
    "print(\"Mult: \", arr * 2)\n",
    "print(\"Div: \", arr / 2)"
   ]
  },
  {
   "cell_type": "code",
   "execution_count": 5,
   "id": "96e9f2c8",
   "metadata": {},
   "outputs": [
    {
     "name": "stdout",
     "output_type": "stream",
     "text": [
      "reduced sum: 10\n",
      "reduced max: 4\n",
      "reduced mean: 4\n",
      "reduced std: 1.118033988749895\n"
     ]
    }
   ],
   "source": [
    "print(\"reduced sum:\", arr.sum())\n",
    "print(\"reduced max:\", arr.max())\n",
    "print(\"reduced mean:\", arr.max())\n",
    "print(\"reduced std:\", arr.std())"
   ]
  },
  {
   "cell_type": "code",
   "execution_count": 6,
   "id": "114e7f0b",
   "metadata": {},
   "outputs": [
    {
     "data": {
      "text/plain": [
       "array([[11, 14],\n",
       "       [25, 32]])"
      ]
     },
     "execution_count": 6,
     "metadata": {},
     "output_type": "execute_result"
    }
   ],
   "source": [
    "arr1 = np.array([[3, 4], [4, 5]])\n",
    "\n",
    "np.dot(arr, arr1)"
   ]
  },
  {
   "cell_type": "markdown",
   "id": "e922205d",
   "metadata": {},
   "source": [
    "### Frobenius Norm"
   ]
  },
  {
   "cell_type": "code",
   "execution_count": 7,
   "id": "e948f04b",
   "metadata": {},
   "outputs": [
    {
     "data": {
      "text/plain": [
       "np.float64(9.539392014169456)"
      ]
     },
     "execution_count": 7,
     "metadata": {},
     "output_type": "execute_result"
    }
   ],
   "source": [
    "np.linalg.norm(np.array([[1, 2, 3], [4, 5, 6]]))"
   ]
  },
  {
   "cell_type": "markdown",
   "id": "8a7b25f8",
   "metadata": {},
   "source": [
    "### Symmetric Matrix"
   ]
  },
  {
   "cell_type": "code",
   "execution_count": 8,
   "id": "d2594326",
   "metadata": {},
   "outputs": [
    {
     "data": {
      "text/plain": [
       "array([[ True,  True,  True],\n",
       "       [ True,  True,  True],\n",
       "       [ True,  True,  True]])"
      ]
     },
     "execution_count": 8,
     "metadata": {},
     "output_type": "execute_result"
    }
   ],
   "source": [
    "m = np.array([[1, 2, 3], [2, 8, 6], [3, 6, 7]])\n",
    "m.T == m"
   ]
  },
  {
   "cell_type": "markdown",
   "id": "12d77bcb",
   "metadata": {},
   "source": [
    "### Identity Matrix"
   ]
  },
  {
   "cell_type": "code",
   "execution_count": 9,
   "id": "0e390cde",
   "metadata": {},
   "outputs": [
    {
     "data": {
      "text/plain": [
       "array([[1., 0., 0.],\n",
       "       [0., 1., 0.],\n",
       "       [0., 0., 1.]])"
      ]
     },
     "execution_count": 9,
     "metadata": {},
     "output_type": "execute_result"
    }
   ],
   "source": [
    "def create_identity_matrix(n):\n",
    "  I = np.zeros([n, n])\n",
    "  np.fill_diagonal(I, 1)\n",
    "  return I\n",
    "\n",
    "\n",
    "I = np.zeros([3, 3])\n",
    "np.fill_diagonal(I, 1)\n",
    "I"
   ]
  },
  {
   "cell_type": "markdown",
   "id": "4746a167",
   "metadata": {},
   "source": [
    "### Inverse Matrix"
   ]
  },
  {
   "cell_type": "code",
   "execution_count": 10,
   "id": "9ee20c90",
   "metadata": {},
   "outputs": [
    {
     "data": {
      "text/plain": [
       "array([[-15.,  16.],\n",
       "       [ 16., -15.]])"
      ]
     },
     "execution_count": 10,
     "metadata": {},
     "output_type": "execute_result"
    }
   ],
   "source": [
    "np.linalg.inv(arr1) * arr1"
   ]
  },
  {
   "cell_type": "markdown",
   "id": "41145255",
   "metadata": {},
   "source": [
    "## Linear Algebra III\n",
    "- Use tensor for solve ecuation systems\n",
    "- Identify usefull patterns in the data"
   ]
  },
  {
   "cell_type": "markdown",
   "id": "61269010",
   "metadata": {},
   "source": [
    "### Matrix Tranformations"
   ]
  },
  {
   "cell_type": "code",
   "execution_count": 11,
   "id": "2e42591e",
   "metadata": {},
   "outputs": [
    {
     "data": {
      "text/plain": [
       "array([1, 3])"
      ]
     },
     "execution_count": 11,
     "metadata": {},
     "output_type": "execute_result"
    }
   ],
   "source": [
    "v = np.array([1, 3])\n",
    "v"
   ]
  },
  {
   "cell_type": "code",
   "execution_count": 12,
   "id": "4c2b8e52",
   "metadata": {},
   "outputs": [],
   "source": [
    "def plot_vectors(vectors, colors):\n",
    "  plt.figure()\n",
    "  plt.axvline(x=0, color=\"lightgray\")\n",
    "  plt.axhline(y=0, color=\"lightgray\")\n",
    "\n",
    "  for i in range(len(vectors)):\n",
    "    x = np.concatenate([[0, 0], vectors[i]])\n",
    "    plt.quiver([x[0]], [x[1]], [x[2]], [x[3]],\n",
    "                angles=\"xy\",\n",
    "                scale_units=\"xy\",\n",
    "                scale=1,\n",
    "                color=colors[i])"
   ]
  },
  {
   "cell_type": "code",
   "execution_count": 13,
   "id": "3be05f27",
   "metadata": {},
   "outputs": [
    {
     "data": {
      "image/png": "[encoded data removed]",
      "text/plain": [
       "<Figure size 640x480 with 1 Axes>"
      ]
     },
     "metadata": {},
     "output_type": "display_data"
    }
   ],
   "source": [
    "plot_vectors([v], [\"blue\"])\n",
    "\n",
    "plt.xlim(-1, 5)\n",
    "_ = plt.ylim(-1, 5)"
   ]
  },
  {
   "cell_type": "code",
   "execution_count": 14,
   "id": "4a30d652",
   "metadata": {},
   "outputs": [
    {
     "data": {
      "text/plain": [
       "array([[1., 0.],\n",
       "       [0., 1.]])"
      ]
     },
     "execution_count": 14,
     "metadata": {},
     "output_type": "execute_result"
    }
   ],
   "source": [
    "I2 = np.eye(2)\n",
    "I2"
   ]
  },
  {
   "cell_type": "markdown",
   "id": "aeabb3af",
   "metadata": {},
   "source": [
    "#### Reflection"
   ]
  },
  {
   "cell_type": "code",
   "execution_count": 15,
   "id": "46642096",
   "metadata": {},
   "outputs": [
    {
     "data": {
      "image/png": "[encoded data removed]",
      "text/plain": [
       "<Figure size 640x480 with 1 Axes>"
      ]
     },
     "metadata": {},
     "output_type": "display_data"
    }
   ],
   "source": [
    "Rx = np.array([[1, 0], [0, -1]]) # Reflect Y axis, convert 1 to -1\n",
    "vR = np.dot(Rx, v)\n",
    "plot_vectors([v, vR], [\"blue\", \"lightblue\"])\n",
    "\n",
    "plt.xlim(-1, 2)\n",
    "_ = plt.ylim(-5, 5)"
   ]
  },
  {
   "cell_type": "code",
   "execution_count": 16,
   "id": "49e33861",
   "metadata": {},
   "outputs": [
    {
     "data": {
      "image/png": "[encoded data removed]",
      "text/plain": [
       "<Figure size 640x480 with 1 Axes>"
      ]
     },
     "metadata": {},
     "output_type": "display_data"
    }
   ],
   "source": [
    "Rx = np.array([[-1, 0], [0, 1]]) # Reflect Y axis, convert 1 to -1\n",
    "vR = np.dot(Rx, v)\n",
    "plot_vectors([v, vR], [\"blue\", \"lightblue\"])\n",
    "\n",
    "plt.xlim(-3, 3)\n",
    "_ = plt.ylim(-1, 4)"
   ]
  },
  {
   "cell_type": "markdown",
   "id": "22ba9962",
   "metadata": {},
   "source": [
    "#### Scaling"
   ]
  },
  {
   "cell_type": "code",
   "execution_count": 17,
   "id": "d0d8f969",
   "metadata": {},
   "outputs": [
    {
     "data": {
      "image/png": "[encoded data removed]",
      "text/plain": [
       "<Figure size 640x480 with 1 Axes>"
      ]
     },
     "metadata": {},
     "output_type": "display_data"
    }
   ],
   "source": [
    "Sc = np.array([[2, 0], [0, 2]])\n",
    "vS = np.dot(Sc, v)\n",
    "plot_vectors([v, vS], [\"blue\", \"hotpink\"])\n",
    "\n",
    "plt.xlim(-1, 10)\n",
    "_ = plt.ylim(-1, 10)"
   ]
  },
  {
   "cell_type": "markdown",
   "id": "036997be",
   "metadata": {},
   "source": [
    "#### Multiple Transformations"
   ]
  },
  {
   "cell_type": "code",
   "execution_count": 18,
   "id": "34526fdf",
   "metadata": {},
   "outputs": [
    {
     "data": {
      "image/png": "[encoded data removed]",
      "text/plain": [
       "<Figure size 640x480 with 1 Axes>"
      ]
     },
     "metadata": {},
     "output_type": "display_data"
    }
   ],
   "source": [
    "M = np.array([[2, -3], [0, 2]])\n",
    "vM = np.dot(M, v)\n",
    "plot_vectors([v, vM], [\"blue\", \"orange\"])\n",
    "\n",
    "plt.xlim(-10, 5)\n",
    "_ = plt.ylim(-1, 10)"
   ]
  },
  {
   "cell_type": "markdown",
   "id": "fccc62fd",
   "metadata": {},
   "source": [
    "### Eigenvectors\n",
    "- Are special vectors that, when transformed by a matrix, only change in magnitude, not direction"
   ]
  },
  {
   "cell_type": "code",
   "execution_count": 19,
   "id": "14adc34e",
   "metadata": {},
   "outputs": [
    {
     "name": "stdout",
     "output_type": "stream",
     "text": [
      "[[ 2 -3]\n",
      " [ 0  2]]\n",
      "Eigenvalues:  [2. 2.]\n",
      "Eigenvectors:  [[1.00000000e+00 1.00000000e+00]\n",
      " [0.00000000e+00 1.48029737e-16]]\n"
     ]
    }
   ],
   "source": [
    "lambdas, V = np.linalg.eig(M)\n",
    "print(M)\n",
    "print(\"Eigenvalues: \", lambdas)\n",
    "print(\"Eigenvectors: \", V)"
   ]
  },
  {
   "cell_type": "code",
   "execution_count": 20,
   "id": "80e55dea",
   "metadata": {},
   "outputs": [
    {
     "data": {
      "text/plain": [
       "array([1., 0.])"
      ]
     },
     "execution_count": 20,
     "metadata": {},
     "output_type": "execute_result"
    }
   ],
   "source": [
    "v = V[:, 0]\n",
    "v"
   ]
  },
  {
   "cell_type": "code",
   "execution_count": 21,
   "id": "af470f35",
   "metadata": {},
   "outputs": [
    {
     "data": {
      "text/plain": [
       "array([2., 0.])"
      ]
     },
     "execution_count": 21,
     "metadata": {},
     "output_type": "execute_result"
    }
   ],
   "source": [
    "Av = np.dot(M, v)\n",
    "Av"
   ]
  },
  {
   "cell_type": "code",
   "execution_count": 22,
   "id": "90de3944",
   "metadata": {},
   "outputs": [
    {
     "data": {
      "image/png": "[encoded data removed]",
      "text/plain": [
       "<Figure size 640x480 with 1 Axes>"
      ]
     },
     "metadata": {},
     "output_type": "display_data"
    }
   ],
   "source": [
    "plot_vectors([Av, v], [\"blue\", \"lightblue\"])\n",
    "plt.xlim(-1, 5)\n",
    "_ = plt.ylim(-1, 10)"
   ]
  },
  {
   "cell_type": "markdown",
   "id": "100bc837",
   "metadata": {},
   "source": [
    "## Decomposition\n",
    "It is a way to decompose a matrix with eigenvectors and eigenvalues to show the characteristics of the matrix like:\n",
    "- The matrix is singular if, and only if any eigenvalue is zero.\n",
    "$$A =  V \\cdot \\Lambda \\cdot V^{-1}$$   "
   ]
  },
  {
   "cell_type": "code",
   "execution_count": 40,
   "id": "27a02310",
   "metadata": {},
   "outputs": [
    {
     "data": {
      "text/plain": [
       "array([[32. , -4. ],\n",
       "       [ 0.5,  1. ]])"
      ]
     },
     "execution_count": 40,
     "metadata": {},
     "output_type": "execute_result"
    }
   ],
   "source": [
    "A = np.array([[32, -4], [1/2, 1]])\n",
    "A"
   ]
  },
  {
   "cell_type": "code",
   "execution_count": 35,
   "id": "2220c57a",
   "metadata": {},
   "outputs": [
    {
     "data": {
      "text/plain": [
       "array([[0.99986941, 0.12823439],\n",
       "       [0.01616063, 0.99174389]])"
      ]
     },
     "execution_count": 35,
     "metadata": {},
     "output_type": "execute_result"
    }
   ],
   "source": [
    "lambdas, V = np.linalg.eig(A) # Get eigenvectors and eigenvalues\n",
    "V"
   ]
  },
  {
   "cell_type": "code",
   "execution_count": 32,
   "id": "3d421a59",
   "metadata": {},
   "outputs": [
    {
     "data": {
      "text/plain": [
       "array([[ 1.00222513, -0.12958963],\n",
       "       [-0.01633142,  1.01043653]])"
      ]
     },
     "execution_count": 32,
     "metadata": {},
     "output_type": "execute_result"
    }
   ],
   "source": [
    "Vinv = np.linalg.inv(V)\n",
    "Vinv"
   ]
  },
  {
   "cell_type": "code",
   "execution_count": 36,
   "id": "a0430358",
   "metadata": {},
   "outputs": [
    {
     "data": {
      "text/plain": [
       "array([[31.93534904,  0.        ],\n",
       "       [ 0.        ,  1.06465096]])"
      ]
     },
     "execution_count": 36,
     "metadata": {},
     "output_type": "execute_result"
    }
   ],
   "source": [
    "Lambda = np.diag(lambdas)\n",
    "Lambda"
   ]
  },
  {
   "cell_type": "markdown",
   "id": "b806b3ad",
   "metadata": {},
   "source": [
    "Confirm the rebuilding of matrix is correct"
   ]
  },
  {
   "cell_type": "code",
   "execution_count": 39,
   "id": "c5352b11",
   "metadata": {},
   "outputs": [
    {
     "data": {
      "text/plain": [
       "array([[32. , -4. ],\n",
       "       [ 0.5,  1. ]])"
      ]
     },
     "execution_count": 39,
     "metadata": {},
     "output_type": "execute_result"
    }
   ],
   "source": [
    "np.dot(V, np.dot(Lambda, Vinv))"
   ]
  },
  {
   "cell_type": "code",
   "execution_count": null,
   "id": "6ab172f8",
   "metadata": {},
   "outputs": [
    {
     "ename": "SyntaxError",
     "evalue": "invalid syntax (883989299.py, line 1)",
     "output_type": "error",
     "traceback": [
      "  \u001b[36mCell\u001b[39m\u001b[36m \u001b[39m\u001b[32mIn[37]\u001b[39m\u001b[32m, line 1\u001b[39m\n\u001b[31m    \u001b[39m\u001b[31mConfirm the rebuilding of matrix is correct\u001b[39m\n            ^\n\u001b[31mSyntaxError\u001b[39m\u001b[31m:\u001b[39m invalid syntax\n"
     ]
    }
   ],
   "source": []
  },
  {
   "cell_type": "code",
   "execution_count": null,
   "id": "58996ac1",
   "metadata": {},
   "outputs": [],
   "source": []
  }
 ],
 "metadata": {
  "kernelspec": {
   "display_name": "Python 3 (ipykernel)",
   "language": "python",
   "name": "python3"
  }
 },
 "nbformat": 4,
 "nbformat_minor": 5
}
