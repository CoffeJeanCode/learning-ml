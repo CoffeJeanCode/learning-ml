{
 "cells": [
  {
   "cell_type": "markdown",
   "metadata": {
    "colab_type": "text",
    "id": "view-in-github"
   },
   "source": [
    "<a href=\"https://colab.research.google.com/github/CoffeJeanCode/learning-ml/blob/master/Math_For_ML.ipynb\" target=\"_parent\"><img src=\"https://colab.research.google.com/assets/colab-badge.svg\" alt=\"Open In Colab\"/></a>"
   ]
  },
  {
   "cell_type": "markdown",
   "metadata": {
    "id": "sZeSBaYkmRTq"
   },
   "source": [
    "# Math For ML"
   ]
  },
  {
   "cell_type": "code",
   "execution_count": 6,
   "metadata": {
    "id": "5NWWL3UrUPzQ"
   },
   "outputs": [
    {
     "ename": "ModuleNotFoundError",
     "evalue": "No module named 'torch'",
     "output_type": "error",
     "traceback": [
      "\u001b[0;31m---------------------------------------------------------------------------\u001b[0m",
      "\u001b[0;31mModuleNotFoundError\u001b[0m                       Traceback (most recent call last)",
      "\u001b[0;32m<ipython-input-6-6ce2c342bd79>\u001b[0m in \u001b[0;36m<module>\u001b[0;34m\u001b[0m\n\u001b[0;32m----> 1\u001b[0;31m \u001b[0;32mimport\u001b[0m \u001b[0mtorch\u001b[0m\u001b[0;34m\u001b[0m\u001b[0;34m\u001b[0m\u001b[0m\n\u001b[0m\u001b[1;32m      2\u001b[0m \u001b[0;31m# import tensorflow as tf\u001b[0m\u001b[0;34m\u001b[0m\u001b[0;34m\u001b[0m\u001b[0;34m\u001b[0m\u001b[0m\n\u001b[1;32m      3\u001b[0m \u001b[0;32mimport\u001b[0m \u001b[0mnumpy\u001b[0m \u001b[0;32mas\u001b[0m \u001b[0mnp\u001b[0m\u001b[0;34m\u001b[0m\u001b[0;34m\u001b[0m\u001b[0m\n\u001b[1;32m      4\u001b[0m \u001b[0;32mimport\u001b[0m \u001b[0mmatplotlib\u001b[0m\u001b[0;34m.\u001b[0m\u001b[0mpyplot\u001b[0m \u001b[0;32mas\u001b[0m \u001b[0mplt\u001b[0m\u001b[0;34m\u001b[0m\u001b[0;34m\u001b[0m\u001b[0m\n",
      "\u001b[0;31mModuleNotFoundError\u001b[0m: No module named 'torch'"
     ]
    }
   ],
   "source": [
    "import torch\n",
    "# import tensorflow as tf\n",
    "import numpy as np\n",
    "import matplotlib.pyplot as plt"
   ]
  },
  {
   "cell_type": "markdown",
   "metadata": {
    "id": "5PMbL_OvYMFa"
   },
   "source": [
    "\n",
    "## Linear Algebra I"
   ]
  },
  {
   "cell_type": "markdown",
   "metadata": {
    "id": "FFpGMvl1UwHG"
   },
   "source": [
    "### Ecuaction System Representation\n",
    "How represent linear system ecuations with graph and their solves.\n",
    "\n",
    "$$\n",
    "d = distance\\\\\n",
    "t = time\\\\\n",
    "d = 2.5t\\\\\n",
    "d = 3(t - 5)\n",
    "$$"
   ]
  },
  {
   "cell_type": "code",
   "execution_count": null,
   "metadata": {
    "id": "5AbAN8V9UsUq"
   },
   "outputs": [],
   "source": [
    "time = np.linspace(0, 40, 1000) # Start, End, Step / N points\n",
    "\n",
    "distance_thief = 2.5 * time\n",
    "distance_sherif = 3 * (time - 5)"
   ]
  },
  {
   "cell_type": "code",
   "execution_count": null,
   "metadata": {
    "colab": {
     "base_uri": "https://localhost:8080/",
     "height": 472
    },
    "id": "_ikghxWBU4zD",
    "outputId": "23dd35ac-37fe-4780-a77f-168e16b648b2"
   },
   "outputs": [],
   "source": [
    "fig, axis = plt.subplots()\n",
    "plt.title(\"System Ecuation Representation\")\n",
    "\n",
    "plt.xlabel(\"time (minutes)\")\n",
    "plt.ylabel(\"distancia (kilometers)\")\n",
    "\n",
    "axis.set_xlim([0, 40])\n",
    "axis.set_ylim([0, 100])\n",
    "\n",
    "axis.plot(time, distance_thief, c=\"orange\")\n",
    "axis.plot(time, distance_sherif, c=\"blue\")\n",
    "\n",
    "axis.axvline(x=30, color=\"black\", linestyle=\"--\" )\n",
    "axis.axhline(y=75, color=\"black\", linestyle=\"--\" )\n",
    "\n",
    "plt.show()"
   ]
  },
  {
   "cell_type": "markdown",
   "metadata": {
    "id": "9zLLIjumV7wc"
   },
   "source": [
    "### Tensors\n",
    "Are multilinear relationships to convert vector tranformations to linear transformations."
   ]
  },
  {
   "cell_type": "code",
   "execution_count": null,
   "metadata": {
    "colab": {
     "base_uri": "https://localhost:8080/"
    },
    "id": "Tgw0rvdaWeGq",
    "outputId": "fdc6a815-1f3b-41d7-be16-bcebc43037da"
   },
   "outputs": [],
   "source": [
    "scalar = 32\n",
    "vector = [1, 2]\n",
    "matrix = [[5, 8], [5, 6]]\n",
    "\n",
    "print(scalar, vector, matrix)"
   ]
  },
  {
   "cell_type": "code",
   "execution_count": null,
   "metadata": {
    "colab": {
     "base_uri": "https://localhost:8080/"
    },
    "id": "aSTDWfaeV5F0",
    "outputId": "9776f4c9-71d7-4d9a-bea7-f79c7e9f142f"
   },
   "outputs": [],
   "source": [
    "# PyTorch Tensor\n",
    "to_tensor = torch.tensor(30)\n",
    "\n",
    "# TensorFlow Tensor\n",
    "tf_tensor = tf.Variable(30)\n",
    "\n",
    "print(\"Tensor (PyTorch): \", to_tensor)\n",
    "print(\"Tensor (TensorFlow): \", tf_tensor)"
   ]
  },
  {
   "cell_type": "code",
   "execution_count": null,
   "metadata": {
    "colab": {
     "base_uri": "https://localhost:8080/"
    },
    "id": "b5lnIRmKXs-H",
    "outputId": "3505f5b5-1963-4caa-e170-f451d19af7bf"
   },
   "outputs": [],
   "source": [
    "tf.add(tf_tensor, to_tensor)"
   ]
  },
  {
   "cell_type": "code",
   "execution_count": null,
   "metadata": {
    "colab": {
     "base_uri": "https://localhost:8080/"
    },
    "id": "GKHqyxTuZPdB",
    "outputId": "dd12e4bc-8a08-4fcc-df03-7a9b37f2eaf0"
   },
   "outputs": [],
   "source": [
    "print(to_tensor.numpy(), tf_tensor.numpy())"
   ]
  },
  {
   "cell_type": "markdown",
   "metadata": {
    "id": "eVhZzzo0dexj"
   },
   "source": [
    "### Vectors\n",
    "Are algebra structure in a vectorial space, that allow make differents operations. Can be represented like points, arrows, or pairs with components"
   ]
  },
  {
   "cell_type": "code",
   "execution_count": null,
   "metadata": {
    "colab": {
     "base_uri": "https://localhost:8080/"
    },
    "id": "7qgQumVDddfX",
    "outputId": "1771e787-3ca1-44c7-fcec-78289185c04e"
   },
   "outputs": [],
   "source": [
    "vec = np.array([1, 2, 3, 4])\n",
    "vec.shape"
   ]
  },
  {
   "cell_type": "markdown",
   "metadata": {
    "id": "CF-q8tkFfSM7"
   },
   "source": [
    "#### Components\n",
    "- X, Y\n",
    "- Direction\n",
    "- Magnitude\n",
    "\n",
    "like:\n",
    "$$\n",
    "\\begin{pmatrix} x \\\\ y \\\\ \\cdots \\end{pmatrix}\n",
    "$$"
   ]
  },
  {
   "cell_type": "code",
   "execution_count": null,
   "metadata": {
    "colab": {
     "base_uri": "https://localhost:8080/"
    },
    "id": "SrLmMzKreLpC",
    "outputId": "e06aa428-503f-4b4b-af50-9be4852e2c7a"
   },
   "outputs": [],
   "source": [
    "# Norm L2 (Euclidean Length)\n",
    "np.linalg.norm(vec)"
   ]
  },
  {
   "cell_type": "markdown",
   "metadata": {
    "id": "aJSwQD9WmLUV"
   },
   "source": [
    "## Linear Algebra II\n",
    "### Tensor Operations\n",
    "  - Artmetics\n",
    "  - Tranposition\n",
    "  - Reduce operations"
   ]
  },
  {
   "cell_type": "code",
   "execution_count": null,
   "metadata": {
    "colab": {
     "base_uri": "https://localhost:8080/"
    },
    "id": "NmeMAvEPKaRd",
    "outputId": "3693c5b2-ae57-405b-8faf-34ecd501e7a3"
   },
   "outputs": [],
   "source": [
    "arr = np.array([[1, 2], [3, 4]]) # Transposition\n",
    "arr.T"
   ]
  },
  {
   "cell_type": "code",
   "execution_count": null,
   "metadata": {
    "colab": {
     "base_uri": "https://localhost:8080/"
    },
    "id": "WPu5E1G6mKGY",
    "outputId": "cf31e3e5-8fb2-4654-a9d0-fe33d41a2ec2"
   },
   "outputs": [],
   "source": [
    "print(\"Sum: \", arr + 2)\n",
    "print(\"Rest: \", arr - 2)\n",
    "print(\"Mult: \", arr * 2)\n",
    "print(\"Div: \", arr / 2)"
   ]
  },
  {
   "cell_type": "code",
   "execution_count": null,
   "metadata": {
    "colab": {
     "base_uri": "https://localhost:8080/"
    },
    "id": "6wEjsIkyKuV4",
    "outputId": "c61488fe-7aeb-451c-e1c0-c8a6c2bfd2b1"
   },
   "outputs": [],
   "source": [
    "print(\"reduced sum:\", arr.sum())\n",
    "print(\"reduced max:\", arr.max())\n",
    "print(\"reduced mean:\", arr.max())\n",
    "print(\"reduced std:\", arr.std())"
   ]
  },
  {
   "cell_type": "code",
   "execution_count": null,
   "metadata": {
    "colab": {
     "base_uri": "https://localhost:8080/"
    },
    "id": "aFNpvly5KKhd",
    "outputId": "7cd23b8d-d21e-44ce-cf9c-91f7e663e76d"
   },
   "outputs": [],
   "source": [
    "arr1 = np.array([[3, 4], [4, 5]])\n",
    "\n",
    "np.dot(arr, arr1)"
   ]
  },
  {
   "cell_type": "markdown",
   "metadata": {
    "id": "rYRIhLpKO5ip"
   },
   "source": [
    "### Frobenius Norm"
   ]
  },
  {
   "cell_type": "code",
   "execution_count": null,
   "metadata": {
    "colab": {
     "base_uri": "https://localhost:8080/"
    },
    "id": "XKCeck8vO5Oe",
    "outputId": "072b6fd6-783a-40d1-8950-e2124e80059a"
   },
   "outputs": [],
   "source": [
    "np.linalg.norm(np.array([[1, 2, 3], [4, 5, 6]]))"
   ]
  },
  {
   "cell_type": "markdown",
   "metadata": {
    "id": "OzG60j0P_pTX"
   },
   "source": [
    "### Symmetric Matrix"
   ]
  },
  {
   "cell_type": "code",
   "execution_count": null,
   "metadata": {
    "colab": {
     "base_uri": "https://localhost:8080/"
    },
    "id": "UdjZUdLW-2Rj",
    "outputId": "10c1df4f-8482-43bc-c68b-25fe133ab837"
   },
   "outputs": [],
   "source": [
    "m = np.array([[1, 2, 3], [2, 8, 6], [3, 6, 7]])\n",
    "m.T == m"
   ]
  },
  {
   "cell_type": "markdown",
   "metadata": {
    "id": "lRI7ooxeVSwV"
   },
   "source": [
    "### Identity Matrix"
   ]
  },
  {
   "cell_type": "code",
   "execution_count": null,
   "metadata": {
    "colab": {
     "base_uri": "https://localhost:8080/"
    },
    "id": "tzaA3xylCekk",
    "outputId": "4ac1dbb3-52ef-43a8-d3a3-bcdaf58c5e78"
   },
   "outputs": [],
   "source": [
    "I = np.zeros([3, 3])\n",
    "np.fill_diagonal(I, 1)\n",
    "I"
   ]
  },
  {
   "cell_type": "markdown",
   "metadata": {
    "id": "HbBczuOpVhBV"
   },
   "source": [
    "### Inverse Matrix"
   ]
  },
  {
   "cell_type": "code",
   "execution_count": null,
   "metadata": {
    "colab": {
     "background_save": true
    },
    "id": "o-MMz2ecVRl_"
   },
   "outputs": [],
   "source": [
    "np.linalg.inv(arr1) * arr1"
   ]
  },
  {
   "cell_type": "markdown",
   "metadata": {
    "id": "f1ewf442V7pd"
   },
   "source": [
    "## Affine transformation"
   ]
  },
  {
   "cell_type": "code",
   "execution_count": null,
   "metadata": {},
   "outputs": [],
   "source": [
    "v = np.array([1, 2])\n",
    "v"
   ]
  },
  {
   "cell_type": "code",
   "execution_count": null,
   "metadata": {},
   "outputs": [],
   "source": [
    "def plot_vectors(vectors, colors):\n",
    "  plt.figure()\n",
    "  plt.axvline(x=0, color=\"lightgray\")\n",
    "  plt.axhline(y=0, color=\"lightgray\")\n",
    "\n",
    "  for i in range(len(vectors)):\n",
    "    x = np.concatenate([[0, 0], vectors[i]])\n",
    "    plt.quiver([x[0]], [x[1]], [x[2]], [x[3]],\n",
    "                angles=\"xy\",\n",
    "                scale_units=\"xy\",\n",
    "                scale=1,\n",
    "                color=colors[i])"
   ]
  },
  {
   "cell_type": "code",
   "execution_count": null,
   "metadata": {},
   "outputs": [],
   "source": [
    "plot_vectors([v], [\"blue\"])\n",
    "\n",
    "plt.xlim(-1, 5)\n",
    "_ = plt.ylim(-1, 5)"
   ]
  },
  {
   "cell_type": "code",
   "execution_count": null,
   "metadata": {},
   "outputs": [],
   "source": [
    "I2 = np.eye(2)\n",
    "I2"
   ]
  },
  {
   "cell_type": "markdown",
   "metadata": {},
   "source": [
    "### Reflection"
   ]
  },
  {
   "cell_type": "code",
   "execution_count": 3,
   "metadata": {},
   "outputs": [
    {
     "ename": "NameError",
     "evalue": "name 'np' is not defined",
     "output_type": "error",
     "traceback": [
      "\u001b[0;31m---------------------------------------------------------------------------\u001b[0m",
      "\u001b[0;31mNameError\u001b[0m                                 Traceback (most recent call last)",
      "\u001b[0;32m<ipython-input-3-cf4270bcad26>\u001b[0m in \u001b[0;36m<module>\u001b[0;34m\u001b[0m\n\u001b[0;32m----> 1\u001b[0;31m \u001b[0mRx\u001b[0m \u001b[0;34m=\u001b[0m \u001b[0mnp\u001b[0m\u001b[0;34m.\u001b[0m\u001b[0marray\u001b[0m\u001b[0;34m(\u001b[0m\u001b[0;34m[\u001b[0m\u001b[0;34m[\u001b[0m\u001b[0;36m1\u001b[0m\u001b[0;34m,\u001b[0m \u001b[0;36m0\u001b[0m\u001b[0;34m]\u001b[0m\u001b[0;34m,\u001b[0m \u001b[0;34m[\u001b[0m\u001b[0;36m0\u001b[0m\u001b[0;34m,\u001b[0m \u001b[0;34m-\u001b[0m\u001b[0;36m1\u001b[0m\u001b[0;34m]\u001b[0m\u001b[0;34m]\u001b[0m\u001b[0;34m)\u001b[0m \u001b[0;31m# Reflect Y axis, convert 1 to -1\u001b[0m\u001b[0;34m\u001b[0m\u001b[0;34m\u001b[0m\u001b[0m\n\u001b[0m\u001b[1;32m      2\u001b[0m \u001b[0mvR\u001b[0m \u001b[0;34m=\u001b[0m \u001b[0mnp\u001b[0m\u001b[0;34m.\u001b[0m\u001b[0mdot\u001b[0m\u001b[0;34m(\u001b[0m\u001b[0mRx\u001b[0m\u001b[0;34m,\u001b[0m \u001b[0mv\u001b[0m\u001b[0;34m)\u001b[0m\u001b[0;34m\u001b[0m\u001b[0;34m\u001b[0m\u001b[0m\n\u001b[1;32m      3\u001b[0m \u001b[0mplot_vectors\u001b[0m\u001b[0;34m(\u001b[0m\u001b[0;34m[\u001b[0m\u001b[0mv\u001b[0m\u001b[0;34m,\u001b[0m \u001b[0mvR\u001b[0m\u001b[0;34m]\u001b[0m\u001b[0;34m,\u001b[0m \u001b[0;34m[\u001b[0m\u001b[0;34m\"blue\"\u001b[0m\u001b[0;34m,\u001b[0m \u001b[0;34m\"lightblue\"\u001b[0m\u001b[0;34m]\u001b[0m\u001b[0;34m)\u001b[0m\u001b[0;34m\u001b[0m\u001b[0;34m\u001b[0m\u001b[0m\n\u001b[1;32m      4\u001b[0m \u001b[0;34m\u001b[0m\u001b[0m\n\u001b[1;32m      5\u001b[0m \u001b[0mplt\u001b[0m\u001b[0;34m.\u001b[0m\u001b[0mxlim\u001b[0m\u001b[0;34m(\u001b[0m\u001b[0;34m-\u001b[0m\u001b[0;36m1\u001b[0m\u001b[0;34m,\u001b[0m \u001b[0;36m2\u001b[0m\u001b[0;34m)\u001b[0m\u001b[0;34m\u001b[0m\u001b[0;34m\u001b[0m\u001b[0m\n",
      "\u001b[0;31mNameError\u001b[0m: name 'np' is not defined"
     ]
    }
   ],
   "source": [
    "Rx = np.array([[1, 0], [0, -1]]) # Reflect Y axis, convert 1 to -1\n",
    "vR = np.dot(Rx, v)\n",
    "plot_vectors([v, vR], [\"blue\", \"lightblue\"])\n",
    "\n",
    "plt.xlim(-1, 2)\n",
    "_ = plt.ylim(-5, 5)"
   ]
  },
  {
   "cell_type": "code",
   "execution_count": null,
   "metadata": {},
   "outputs": [],
   "source": [
    "Rx = np.array([[-1, 0], [0, 1]]) # Reflect Y axis, convert 1 to -1\n",
    "vR = np.dot(Rx, v)\n",
    "plot_vectors([v, vR], [\"blue\", \"lightblue\"])\n",
    "\n",
    "plt.xlim(-3, 3)\n",
    "_ = plt.ylim(-1, 4)"
   ]
  },
  {
   "cell_type": "markdown",
   "metadata": {},
   "source": [
    "### Scaling"
   ]
  },
  {
   "cell_type": "code",
   "execution_count": null,
   "metadata": {},
   "outputs": [],
   "source": [
    "Sc = np.array([[2, 0], [0, 2]])\n",
    "vS = np.dot(Sc, v)\n",
    "plot_vectors([v, vS], [\"blue\", \"hotpink\"])\n",
    "\n",
    "plt.xlim(-1, 10)\n",
    "_ = plt.ylim(-1, 10)"
   ]
  },
  {
   "cell_type": "markdown",
   "metadata": {},
   "source": [
    "### Mutiple Transformations"
   ]
  },
  {
   "cell_type": "code",
   "execution_count": 4,
   "metadata": {},
   "outputs": [
    {
     "ename": "NameError",
     "evalue": "name 'np' is not defined",
     "output_type": "error",
     "traceback": [
      "\u001b[0;31m---------------------------------------------------------------------------\u001b[0m",
      "\u001b[0;31mNameError\u001b[0m                                 Traceback (most recent call last)",
      "\u001b[0;32m<ipython-input-4-c04f1cd04189>\u001b[0m in \u001b[0;36m<module>\u001b[0;34m\u001b[0m\n\u001b[0;32m----> 1\u001b[0;31m \u001b[0mM\u001b[0m \u001b[0;34m=\u001b[0m \u001b[0mnp\u001b[0m\u001b[0;34m.\u001b[0m\u001b[0marray\u001b[0m\u001b[0;34m(\u001b[0m\u001b[0;34m[\u001b[0m\u001b[0;34m[\u001b[0m\u001b[0;36m2\u001b[0m\u001b[0;34m,\u001b[0m \u001b[0;34m-\u001b[0m\u001b[0;36m3\u001b[0m\u001b[0;34m]\u001b[0m\u001b[0;34m,\u001b[0m \u001b[0;34m[\u001b[0m\u001b[0;36m0\u001b[0m\u001b[0;34m,\u001b[0m \u001b[0;36m2\u001b[0m\u001b[0;34m]\u001b[0m\u001b[0;34m]\u001b[0m\u001b[0;34m)\u001b[0m\u001b[0;34m\u001b[0m\u001b[0;34m\u001b[0m\u001b[0m\n\u001b[0m\u001b[1;32m      2\u001b[0m \u001b[0mvM\u001b[0m \u001b[0;34m=\u001b[0m \u001b[0mnp\u001b[0m\u001b[0;34m.\u001b[0m\u001b[0mdot\u001b[0m\u001b[0;34m(\u001b[0m\u001b[0mM\u001b[0m\u001b[0;34m,\u001b[0m \u001b[0mv\u001b[0m\u001b[0;34m)\u001b[0m\u001b[0;34m\u001b[0m\u001b[0;34m\u001b[0m\u001b[0m\n\u001b[1;32m      3\u001b[0m \u001b[0mplot_vectors\u001b[0m\u001b[0;34m(\u001b[0m\u001b[0;34m[\u001b[0m\u001b[0mv\u001b[0m\u001b[0;34m,\u001b[0m \u001b[0mvM\u001b[0m\u001b[0;34m]\u001b[0m\u001b[0;34m,\u001b[0m \u001b[0;34m[\u001b[0m\u001b[0;34m\"blue\"\u001b[0m\u001b[0;34m,\u001b[0m \u001b[0;34m\"orange\"\u001b[0m\u001b[0;34m]\u001b[0m\u001b[0;34m)\u001b[0m\u001b[0;34m\u001b[0m\u001b[0;34m\u001b[0m\u001b[0m\n\u001b[1;32m      4\u001b[0m \u001b[0;34m\u001b[0m\u001b[0m\n\u001b[1;32m      5\u001b[0m \u001b[0mplt\u001b[0m\u001b[0;34m.\u001b[0m\u001b[0mxlim\u001b[0m\u001b[0;34m(\u001b[0m\u001b[0;34m-\u001b[0m\u001b[0;36m5\u001b[0m\u001b[0;34m,\u001b[0m \u001b[0;36m5\u001b[0m\u001b[0;34m)\u001b[0m\u001b[0;34m\u001b[0m\u001b[0;34m\u001b[0m\u001b[0m\n",
      "\u001b[0;31mNameError\u001b[0m: name 'np' is not defined"
     ]
    }
   ],
   "source": [
    "M = np.array([[2, -3], [0, 2]])\n",
    "vM = np.dot(M, v)\n",
    "plot_vectors([v, vM], [\"blue\", \"orange\"])\n",
    "\n",
    "plt.xlim(-5, 5)\n",
    "_ = plt.ylim(-1, 10)"
   ]
  }
 ],
 "metadata": {
  "colab": {
   "authorship_tag": "ABX9TyPrM+xWVhTKg5DvKw1reNO6",
   "include_colab_link": true,
   "provenance": []
  },
  "kernelspec": {
   "display_name": "Python 3",
   "language": "python",
   "name": "python3"
  },
  "language_info": {
   "codemirror_mode": {
    "name": "ipython",
    "version": 3
   },
   "file_extension": ".py",
   "mimetype": "text/x-python",
   "name": "python",
   "nbconvert_exporter": "python",
   "pygments_lexer": "ipython3",
   "version": "3.9.5"
  }
 },
 "nbformat": 4,
 "nbformat_minor": 4
}
